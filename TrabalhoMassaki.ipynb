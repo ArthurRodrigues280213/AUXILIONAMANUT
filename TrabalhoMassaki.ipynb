{
  "nbformat": 4,
  "nbformat_minor": 0,
  "metadata": {
    "colab": {
      "provenance": [],
      "authorship_tag": "ABX9TyMuebseh2B9l/53tx+Ml6Et",
      "include_colab_link": true
    },
    "kernelspec": {
      "name": "python3",
      "display_name": "Python 3"
    },
    "language_info": {
      "name": "python"
    }
  },
  "cells": [
    {
      "cell_type": "markdown",
      "metadata": {
        "id": "view-in-github",
        "colab_type": "text"
      },
      "source": [
        "<a href=\"https://colab.research.google.com/github/ArthurRodrigues280213/AUXILIONAMANUT/blob/main/TrabalhoMassaki.ipynb\" target=\"_parent\"><img src=\"https://colab.research.google.com/assets/colab-badge.svg\" alt=\"Open In Colab\"/></a>"
      ]
    },
    {
      "cell_type": "code",
      "execution_count": 1,
      "metadata": {
        "colab": {
          "base_uri": "https://localhost:8080/"
        },
        "id": "dwobMlZzW7LC",
        "outputId": "5767e1e0-be89-4b8a-d72c-0f7479064114"
      },
      "outputs": [
        {
          "output_type": "stream",
          "name": "stdout",
          "text": [
            "\n",
            "Tabela das Máquinas (apenas colunas relevantes):\n",
            "\n",
            "                      Máquina  Envelope(gmE)  Temperatura(°C)  Rotação(RPM)\n",
            "0         Redutor da Calandra           0.80               21            53\n",
            "1  Moto-Bomba de lubrificação           0.20               50           250\n",
            "2                 Eixo Cardan           0.70               20            30\n",
            "3                    Motor CC           1.33               80           500\n",
            "4                 Eixo Arvore           2.00               26          2500\n",
            "5                      Prensa           2.50               38            20\n",
            "\n",
            "Digite o nome da máquina para diagnosticar ou (sair) para encerrar: SAIR\n",
            "Encerrando o programa.\n"
          ]
        }
      ],
      "source": [
        "#IMPORTANDO BIBLIOTECAS\n",
        "import pandas as pd\n",
        "import requests\n",
        "from io import BytesIO\n",
        "\n",
        "\n",
        "#DEFININDO RANGE DOS PROBLEMAS (ENVELOPE)\n",
        "def diagnosticar_problema_envelope(envelope):\n",
        "    if 0 <= envelope <= 0.5:\n",
        "        return \"Problema de fixação, realizar aperto das conexões\"\n",
        "    elif 0.5 < envelope <= 1.0:\n",
        "        return \"Desalinhamento, realizar alinhamento dos componentes\"\n",
        "    elif 1.0 < envelope <= 1.5:\n",
        "        return \"Aquecimento do rolamento, realizar lubrificação dos componentes\"\n",
        "    elif 1.5 < envelope <= 2.0:\n",
        "        return \"Desgaste excessivo, realizar troca de peças\"\n",
        "    elif 2.0 < envelope <= 2.5:\n",
        "        return \"Quebra de componente iminente, realizar troca de peças\"\n",
        "    else:\n",
        "        return \"Valor do envelope fora do intervalo esperado (0 a 2,5).\"\n",
        "\n",
        "\n",
        "#DEFININDO RANGE DOS PROBLEMAS (TEMPERATURA)\n",
        "def diagnosticar_problema_temperatura(temperatura):\n",
        "    if 0 <= temperatura <= 25:\n",
        "        return \"Normal\"\n",
        "    elif 26 < temperatura <= 50:\n",
        "        return \"Leve elevação de temperatura, acompanhar evolução\"\n",
        "    elif 51 < temperatura <= 100:\n",
        "        return \"Máquina superaquecida,verificar sistema de resfriamento\"\n",
        "    elif 101 <= temperatura:\n",
        "        return \"Máquina em estado alarmante, agendar parada para manutenção\"\n",
        "    else:\n",
        "        return \"Valor da temperatura fora do intervalo esperado (0 a 200).\"\n",
        "\n",
        "\n",
        "\n",
        "url = \"https://docs.google.com/spreadsheets/d/10ucjxKBZpqWhhZMZNLLeh7mbGRXGdt6t7VznryD7EYI/export?format=xlsx\"\n",
        "\n",
        "try:\n",
        "    resposta = requests.get(url)\n",
        "    resposta.raise_for_status()\n",
        "    dados = pd.read_excel(BytesIO(resposta.content))\n",
        "\n",
        "\n",
        "    dados = dados[['Máquina', 'Envelope(gmE)', 'Temperatura(°C)', 'Rotação(RPM)']]\n",
        "\n",
        "    print(\"\\nTabela das Máquinas (apenas colunas relevantes):\\n\")\n",
        "    print(dados)\n",
        "\n",
        "\n",
        "    if \"Máquina\" in dados.columns and \"Envelope(gmE)\" in dados.columns and \"Temperatura(°C)\" in dados.columns:\n",
        "        while True:\n",
        "            maquina = input(\"\\nDigite o nome da máquina para diagnosticar ou (sair) para encerrar: \")\n",
        "            if maquina.lower() == \"sair\":\n",
        "                print(\"Encerrando o programa.\")\n",
        "                break\n",
        "\n",
        "\n",
        "            maquina_dados = dados[dados[\"Máquina\"].str.lower() == maquina.lower()]\n",
        "\n",
        "            if maquina_dados.empty:\n",
        "                print(f\"Máquina '{maquina}' não encontrada no arquivo.\")\n",
        "            else:\n",
        "                envelope = maquina_dados[\"Envelope(gmE)\"].values[0]\n",
        "                temperatura = maquina_dados[\"Temperatura(°C)\"].values[0]\n",
        "\n",
        "                diagnostico_envelope = diagnosticar_problema_envelope(envelope)\n",
        "                diagnostico_temperatura = diagnosticar_problema_temperatura(temperatura)\n",
        "\n",
        "                print(f\"\\nMáquina: {maquina}\")\n",
        "                print(f\"Envelope: {envelope} gmE - Diagnóstico: {diagnostico_envelope}\")\n",
        "                print(f\"Temperatura: {temperatura}°C - Diagnóstico: {diagnostico_temperatura}\")\n",
        "\n",
        "    else:\n",
        "        print(\"Erro: O arquivo deve conter as colunas 'Máquina', 'Envelope(gmE)' e 'Temperatura(°C)'.\")\n",
        "except requests.exceptions.RequestException as e:\n",
        "    print(f\"Erro ao baixar o arquivo: {e}\")\n",
        "except FileNotFoundError:\n",
        "    print(\"Erro: Arquivo não encontrado. Verifique o caminho e tente novamente.\")\n",
        "except Exception as e:\n",
        "    print(f\"Ocorreu um erro: {e}\")"
      ]
    }
  ]
}